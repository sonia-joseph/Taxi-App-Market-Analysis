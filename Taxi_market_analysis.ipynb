{
 "cells": [
  {
   "cell_type": "markdown",
   "metadata": {},
   "source": [
    "# Market Analysis for Zuber Taxi App"
   ]
  },
  {
   "cell_type": "markdown",
   "metadata": {},
   "source": [
    "As an analyst for Zuber, the latest addition to the crowded taxi cab service space in Chicago, it is imperative to analyze the market and the performance of the existing players to understand what Zuber can do differently to distinguish itself and establish it's presence.\n",
    "In this analysis, we will examine the data first for errors in data types, missing values, duplications and any other inconsistencies.\n",
    "\n",
    "Once the data has been prepared for analysis, we will examine:\n",
    "1. The neighborhoods in the city that are responsible for most of the taxi traffic and try to discern if there is a way to explain the rankings of the various neighborhoods.\n",
    "2. The most popular taxi cab companies, their ranks, their relative market shares.\n",
    "\n",
    "We will also test the hypothesis: \"The average duration of rides from the Loop to O'Hare International Airport changes on rainy Saturdays.\"\n",
    "\n",
    "We will conclude with key take aways for Zuber based on our analysis."
   ]
  },
  {
   "cell_type": "markdown",
   "metadata": {},
   "source": [
    "## Exploratory Data Analysis"
   ]
  },
  {
   "cell_type": "code",
   "execution_count": 1,
   "metadata": {},
   "outputs": [],
   "source": [
    "# Loading all the libraries\n",
    "import pandas as pd\n",
    "import numpy as np\n",
    "from scipy import stats as st\n",
    "from matplotlib import pyplot as plt\n",
    "import plotly as py\n",
    "import plotly.express as px"
   ]
  },
  {
   "cell_type": "code",
   "execution_count": 2,
   "metadata": {},
   "outputs": [],
   "source": [
    "# Load the data files into different DataFrames\n",
    "#read in the trips file for companies between November 15th and 16th of 2017 \n",
    "company_trips_1516 = pd.read_csv('/datasets/project_sql_result_01.csv')\n",
    "#read in average trips by neighborhood drop-off for November\n",
    "n_avgtrips_nov = pd.read_csv('/datasets/project_sql_result_04.csv')\n",
    "#read in the data on loop O Hare trips and weather\n",
    "lh_weather = pd.read_csv('/datasets/project_sql_result_07.csv')"
   ]
  },
  {
   "cell_type": "code",
   "execution_count": 3,
   "metadata": {},
   "outputs": [
    {
     "name": "stdout",
     "output_type": "stream",
     "text": [
      "<class 'pandas.core.frame.DataFrame'>\n",
      "RangeIndex: 64 entries, 0 to 63\n",
      "Data columns (total 2 columns):\n",
      " #   Column        Non-Null Count  Dtype \n",
      "---  ------        --------------  ----- \n",
      " 0   company_name  64 non-null     object\n",
      " 1   trips_amount  64 non-null     int64 \n",
      "dtypes: int64(1), object(1)\n",
      "memory usage: 1.1+ KB\n",
      "<class 'pandas.core.frame.DataFrame'>\n",
      "RangeIndex: 94 entries, 0 to 93\n",
      "Data columns (total 2 columns):\n",
      " #   Column                 Non-Null Count  Dtype  \n",
      "---  ------                 --------------  -----  \n",
      " 0   dropoff_location_name  94 non-null     object \n",
      " 1   average_trips          94 non-null     float64\n",
      "dtypes: float64(1), object(1)\n",
      "memory usage: 1.6+ KB\n",
      "<class 'pandas.core.frame.DataFrame'>\n",
      "RangeIndex: 1068 entries, 0 to 1067\n",
      "Data columns (total 3 columns):\n",
      " #   Column              Non-Null Count  Dtype  \n",
      "---  ------              --------------  -----  \n",
      " 0   start_ts            1068 non-null   object \n",
      " 1   weather_conditions  1068 non-null   object \n",
      " 2   duration_seconds    1068 non-null   float64\n",
      "dtypes: float64(1), object(2)\n",
      "memory usage: 25.2+ KB\n"
     ]
    },
    {
     "data": {
      "text/html": [
       "<div>\n",
       "<style scoped>\n",
       "    .dataframe tbody tr th:only-of-type {\n",
       "        vertical-align: middle;\n",
       "    }\n",
       "\n",
       "    .dataframe tbody tr th {\n",
       "        vertical-align: top;\n",
       "    }\n",
       "\n",
       "    .dataframe thead th {\n",
       "        text-align: right;\n",
       "    }\n",
       "</style>\n",
       "<table border=\"1\" class=\"dataframe\">\n",
       "  <thead>\n",
       "    <tr style=\"text-align: right;\">\n",
       "      <th></th>\n",
       "      <th>start_ts</th>\n",
       "      <th>weather_conditions</th>\n",
       "      <th>duration_seconds</th>\n",
       "    </tr>\n",
       "  </thead>\n",
       "  <tbody>\n",
       "    <tr>\n",
       "      <th>80</th>\n",
       "      <td>2017-11-04 05:00:00</td>\n",
       "      <td>Good</td>\n",
       "      <td>1260.0</td>\n",
       "    </tr>\n",
       "    <tr>\n",
       "      <th>753</th>\n",
       "      <td>2017-11-04 16:00:00</td>\n",
       "      <td>Bad</td>\n",
       "      <td>2820.0</td>\n",
       "    </tr>\n",
       "    <tr>\n",
       "      <th>539</th>\n",
       "      <td>2017-11-04 12:00:00</td>\n",
       "      <td>Good</td>\n",
       "      <td>2700.0</td>\n",
       "    </tr>\n",
       "    <tr>\n",
       "      <th>329</th>\n",
       "      <td>2017-11-11 09:00:00</td>\n",
       "      <td>Good</td>\n",
       "      <td>1623.0</td>\n",
       "    </tr>\n",
       "    <tr>\n",
       "      <th>395</th>\n",
       "      <td>2017-11-04 16:00:00</td>\n",
       "      <td>Bad</td>\n",
       "      <td>2894.0</td>\n",
       "    </tr>\n",
       "    <tr>\n",
       "      <th>722</th>\n",
       "      <td>2017-11-04 09:00:00</td>\n",
       "      <td>Good</td>\n",
       "      <td>1934.0</td>\n",
       "    </tr>\n",
       "    <tr>\n",
       "      <th>189</th>\n",
       "      <td>2017-11-04 08:00:00</td>\n",
       "      <td>Good</td>\n",
       "      <td>1323.0</td>\n",
       "    </tr>\n",
       "    <tr>\n",
       "      <th>108</th>\n",
       "      <td>2017-11-25 08:00:00</td>\n",
       "      <td>Good</td>\n",
       "      <td>1277.0</td>\n",
       "    </tr>\n",
       "    <tr>\n",
       "      <th>106</th>\n",
       "      <td>2017-11-11 07:00:00</td>\n",
       "      <td>Good</td>\n",
       "      <td>1380.0</td>\n",
       "    </tr>\n",
       "    <tr>\n",
       "      <th>730</th>\n",
       "      <td>2017-11-11 13:00:00</td>\n",
       "      <td>Good</td>\n",
       "      <td>2280.0</td>\n",
       "    </tr>\n",
       "  </tbody>\n",
       "</table>\n",
       "</div>"
      ],
      "text/plain": [
       "                start_ts weather_conditions  duration_seconds\n",
       "80   2017-11-04 05:00:00               Good            1260.0\n",
       "753  2017-11-04 16:00:00                Bad            2820.0\n",
       "539  2017-11-04 12:00:00               Good            2700.0\n",
       "329  2017-11-11 09:00:00               Good            1623.0\n",
       "395  2017-11-04 16:00:00                Bad            2894.0\n",
       "722  2017-11-04 09:00:00               Good            1934.0\n",
       "189  2017-11-04 08:00:00               Good            1323.0\n",
       "108  2017-11-25 08:00:00               Good            1277.0\n",
       "106  2017-11-11 07:00:00               Good            1380.0\n",
       "730  2017-11-11 13:00:00               Good            2280.0"
      ]
     },
     "metadata": {},
     "output_type": "display_data"
    }
   ],
   "source": [
    "#examine the data frames\n",
    "company_trips_1516.info()\n",
    "n_avgtrips_nov.info()\n",
    "lh_weather.info()\n",
    "display(lh_weather.sample(10))"
   ]
  },
  {
   "cell_type": "markdown",
   "metadata": {},
   "source": [
    "At first glance, there are no null values/missing values in any of the columns. Let us examine duplicates.\n",
    "Data types are largely correct except for start_ts in the third set which should be datetime but is not.\n",
    "Also, since average trips in n_avgtrips_nov should be an integer since it captures the average count for trips for the month, it would make sense to convert it to integer similiar to dataframe company_trips_1516."
   ]
  },
  {
   "cell_type": "code",
   "execution_count": 4,
   "metadata": {},
   "outputs": [
    {
     "name": "stdout",
     "output_type": "stream",
     "text": [
      "<class 'pandas.core.frame.DataFrame'>\n",
      "RangeIndex: 1068 entries, 0 to 1067\n",
      "Data columns (total 3 columns):\n",
      " #   Column              Non-Null Count  Dtype         \n",
      "---  ------              --------------  -----         \n",
      " 0   start_ts            1068 non-null   datetime64[ns]\n",
      " 1   weather_conditions  1068 non-null   object        \n",
      " 2   duration_seconds    1068 non-null   float64       \n",
      "dtypes: datetime64[ns](1), float64(1), object(1)\n",
      "memory usage: 25.2+ KB\n",
      "<class 'pandas.core.frame.DataFrame'>\n",
      "RangeIndex: 94 entries, 0 to 93\n",
      "Data columns (total 2 columns):\n",
      " #   Column                 Non-Null Count  Dtype \n",
      "---  ------                 --------------  ----- \n",
      " 0   dropoff_location_name  94 non-null     object\n",
      " 1   average_trips          94 non-null     int64 \n",
      "dtypes: int64(1), object(1)\n",
      "memory usage: 1.6+ KB\n",
      "0\n",
      "0\n",
      "197\n"
     ]
    },
    {
     "data": {
      "text/html": [
       "<div>\n",
       "<style scoped>\n",
       "    .dataframe tbody tr th:only-of-type {\n",
       "        vertical-align: middle;\n",
       "    }\n",
       "\n",
       "    .dataframe tbody tr th {\n",
       "        vertical-align: top;\n",
       "    }\n",
       "\n",
       "    .dataframe thead th {\n",
       "        text-align: right;\n",
       "    }\n",
       "</style>\n",
       "<table border=\"1\" class=\"dataframe\">\n",
       "  <thead>\n",
       "    <tr style=\"text-align: right;\">\n",
       "      <th></th>\n",
       "      <th>start_ts</th>\n",
       "      <th>weather_conditions</th>\n",
       "      <th>duration_seconds</th>\n",
       "    </tr>\n",
       "  </thead>\n",
       "  <tbody>\n",
       "    <tr>\n",
       "      <th>462</th>\n",
       "      <td>2017-11-04 05:00:00</td>\n",
       "      <td>Good</td>\n",
       "      <td>1200.0</td>\n",
       "    </tr>\n",
       "    <tr>\n",
       "      <th>541</th>\n",
       "      <td>2017-11-04 05:00:00</td>\n",
       "      <td>Good</td>\n",
       "      <td>1200.0</td>\n",
       "    </tr>\n",
       "    <tr>\n",
       "      <th>681</th>\n",
       "      <td>2017-11-04 06:00:00</td>\n",
       "      <td>Good</td>\n",
       "      <td>1267.0</td>\n",
       "    </tr>\n",
       "    <tr>\n",
       "      <th>682</th>\n",
       "      <td>2017-11-04 06:00:00</td>\n",
       "      <td>Good</td>\n",
       "      <td>1267.0</td>\n",
       "    </tr>\n",
       "    <tr>\n",
       "      <th>332</th>\n",
       "      <td>2017-11-04 07:00:00</td>\n",
       "      <td>Good</td>\n",
       "      <td>1140.0</td>\n",
       "    </tr>\n",
       "  </tbody>\n",
       "</table>\n",
       "</div>"
      ],
      "text/plain": [
       "               start_ts weather_conditions  duration_seconds\n",
       "462 2017-11-04 05:00:00               Good            1200.0\n",
       "541 2017-11-04 05:00:00               Good            1200.0\n",
       "681 2017-11-04 06:00:00               Good            1267.0\n",
       "682 2017-11-04 06:00:00               Good            1267.0\n",
       "332 2017-11-04 07:00:00               Good            1140.0"
      ]
     },
     "metadata": {},
     "output_type": "display_data"
    },
    {
     "name": "stdout",
     "output_type": "stream",
     "text": [
      "0\n",
      "<class 'pandas.core.frame.DataFrame'>\n",
      "Int64Index: 871 entries, 0 to 1067\n",
      "Data columns (total 3 columns):\n",
      " #   Column              Non-Null Count  Dtype         \n",
      "---  ------              --------------  -----         \n",
      " 0   start_ts            871 non-null    datetime64[ns]\n",
      " 1   weather_conditions  871 non-null    object        \n",
      " 2   duration_seconds    871 non-null    float64       \n",
      "dtypes: datetime64[ns](1), float64(1), object(1)\n",
      "memory usage: 27.2+ KB\n"
     ]
    }
   ],
   "source": [
    "lh_weather['start_ts']= pd.to_datetime(lh_weather['start_ts'], format='%Y-%m-%d %H:%M:%S')\n",
    "n_avgtrips_nov['average_trips'] = n_avgtrips_nov['average_trips'].astype('int64')\n",
    "lh_weather.info()\n",
    "n_avgtrips_nov.info()\n",
    "#checking for duplicate rows\n",
    "print(company_trips_1516.duplicated().sum())\n",
    "print(n_avgtrips_nov.duplicated().sum())\n",
    "print(lh_weather.duplicated().sum())\n",
    "#examining the duplicates in the last data set, sorting by column values to keep duplicates together\n",
    "duplicates = lh_weather[lh_weather.duplicated(keep=False)].sort_values(by=['start_ts', 'weather_conditions', 'duration_seconds'])\n",
    "display(duplicates.head())\n",
    "#removing duplicate rows\n",
    "lh_weather = lh_weather.drop_duplicates()\n",
    "#making sure duplicates have been removed\n",
    "print(lh_weather.duplicated().sum())\n",
    "lh_weather.info()"
   ]
  },
  {
   "cell_type": "code",
   "execution_count": 5,
   "metadata": {},
   "outputs": [
    {
     "name": "stdout",
     "output_type": "stream",
     "text": [
      "64\n",
      "94\n",
      "81\n"
     ]
    },
    {
     "data": {
      "text/html": [
       "<div>\n",
       "<style scoped>\n",
       "    .dataframe tbody tr th:only-of-type {\n",
       "        vertical-align: middle;\n",
       "    }\n",
       "\n",
       "    .dataframe tbody tr th {\n",
       "        vertical-align: top;\n",
       "    }\n",
       "\n",
       "    .dataframe thead th {\n",
       "        text-align: right;\n",
       "    }\n",
       "</style>\n",
       "<table border=\"1\" class=\"dataframe\">\n",
       "  <thead>\n",
       "    <tr style=\"text-align: right;\">\n",
       "      <th></th>\n",
       "      <th>start_ts</th>\n",
       "      <th>weather_conditions</th>\n",
       "      <th>duration_seconds</th>\n",
       "    </tr>\n",
       "  </thead>\n",
       "  <tbody>\n",
       "  </tbody>\n",
       "</table>\n",
       "</div>"
      ],
      "text/plain": [
       "Empty DataFrame\n",
       "Columns: [start_ts, weather_conditions, duration_seconds]\n",
       "Index: []"
      ]
     },
     "metadata": {},
     "output_type": "display_data"
    }
   ],
   "source": [
    "#checking for other duplicates\n",
    "#are all the company names in the first data set unique?\n",
    "print(company_trips_1516['company_name'].nunique())\n",
    "#are all the dropoff locations in the second data set unique?\n",
    "print(n_avgtrips_nov['dropoff_location_name'].nunique())\n",
    "#how many duplicates of the same satrt time and duration in the third data set?\n",
    "#Their existence would mean conflicting weather data for the same time point (since thery were not flagged as duplucate rows) which can create issues later\n",
    "print(lh_weather['start_ts'].nunique())\n",
    "lh_duplicated = lh_weather[lh_weather.duplicated(subset=['start_ts','duration_seconds'], keep = False)]\n",
    "display(lh_duplicated)"
   ]
  },
  {
   "cell_type": "markdown",
   "metadata": {},
   "source": [
    "The data has been cleaned and we can proceed to analysis"
   ]
  },
  {
   "cell_type": "markdown",
   "metadata": {},
   "source": [
    "## Data Analysis"
   ]
  },
  {
   "cell_type": "code",
   "execution_count": 6,
   "metadata": {
    "scrolled": true
   },
   "outputs": [
    {
     "data": {
      "text/html": [
       "<div>\n",
       "<style scoped>\n",
       "    .dataframe tbody tr th:only-of-type {\n",
       "        vertical-align: middle;\n",
       "    }\n",
       "\n",
       "    .dataframe tbody tr th {\n",
       "        vertical-align: top;\n",
       "    }\n",
       "\n",
       "    .dataframe thead th {\n",
       "        text-align: right;\n",
       "    }\n",
       "</style>\n",
       "<table border=\"1\" class=\"dataframe\">\n",
       "  <thead>\n",
       "    <tr style=\"text-align: right;\">\n",
       "      <th></th>\n",
       "      <th>dropoff_location_name</th>\n",
       "      <th>average_trips</th>\n",
       "    </tr>\n",
       "  </thead>\n",
       "  <tbody>\n",
       "    <tr>\n",
       "      <th>0</th>\n",
       "      <td>Loop</td>\n",
       "      <td>10727</td>\n",
       "    </tr>\n",
       "    <tr>\n",
       "      <th>1</th>\n",
       "      <td>River North</td>\n",
       "      <td>9523</td>\n",
       "    </tr>\n",
       "    <tr>\n",
       "      <th>2</th>\n",
       "      <td>Streeterville</td>\n",
       "      <td>6664</td>\n",
       "    </tr>\n",
       "    <tr>\n",
       "      <th>3</th>\n",
       "      <td>West Loop</td>\n",
       "      <td>5163</td>\n",
       "    </tr>\n",
       "    <tr>\n",
       "      <th>4</th>\n",
       "      <td>O'Hare</td>\n",
       "      <td>2546</td>\n",
       "    </tr>\n",
       "    <tr>\n",
       "      <th>5</th>\n",
       "      <td>Lake View</td>\n",
       "      <td>2420</td>\n",
       "    </tr>\n",
       "    <tr>\n",
       "      <th>6</th>\n",
       "      <td>Grant Park</td>\n",
       "      <td>2068</td>\n",
       "    </tr>\n",
       "    <tr>\n",
       "      <th>7</th>\n",
       "      <td>Museum Campus</td>\n",
       "      <td>1510</td>\n",
       "    </tr>\n",
       "    <tr>\n",
       "      <th>8</th>\n",
       "      <td>Gold Coast</td>\n",
       "      <td>1364</td>\n",
       "    </tr>\n",
       "    <tr>\n",
       "      <th>9</th>\n",
       "      <td>Sheffield &amp; DePaul</td>\n",
       "      <td>1259</td>\n",
       "    </tr>\n",
       "  </tbody>\n",
       "</table>\n",
       "</div>"
      ],
      "text/plain": [
       "  dropoff_location_name  average_trips\n",
       "0                  Loop          10727\n",
       "1           River North           9523\n",
       "2         Streeterville           6664\n",
       "3             West Loop           5163\n",
       "4                O'Hare           2546\n",
       "5             Lake View           2420\n",
       "6            Grant Park           2068\n",
       "7         Museum Campus           1510\n",
       "8            Gold Coast           1364\n",
       "9    Sheffield & DePaul           1259"
      ]
     },
     "metadata": {},
     "output_type": "display_data"
    },
    {
     "data": {
      "image/png": "[encoded data removed]",
      "text/plain": [
       "<Figure size 640x480 with 1 Axes>"
      ]
     },
     "metadata": {},
     "output_type": "display_data"
    }
   ],
   "source": [
    "#sort locations by average trips\n",
    "top_locations = n_avgtrips_nov.sort_values('average_trips', ascending=False).head(10)\n",
    "#display top ten locations by drop-off\n",
    "display(top_locations)\n",
    "#plot with location name on x-axis and trip average on y-axis\n",
    "top_locations.plot(x='dropoff_location_name',\n",
    "                y='average_trips',\n",
    "                kind='bar',\n",
    "                title='Average trips in November for the top 10 drop-off locations',\n",
    "                xlabel='Drop-off location',\n",
    "                ylabel='Average number of trips',\n",
    "                color='purple',\n",
    "                  rot=45)\n",
    "#remove legend\n",
    "plt.legend('', frameon=False)\n",
    "#show plot\n",
    "plt.show()"
   ]
  },
  {
   "cell_type": "markdown",
   "metadata": {},
   "source": [
    "We see that the bulk of the trips are towards the loop and the area surrounding the loop like River North and Streeterville. This is likely because a lot of the entertainment, culture and fine and other dining options are centered here. After these very popular districts, there is the usual expected traffic towards O'Hare which is one of the largest airports by traffic volume in the world. \n",
    "\n",
    "However, the traffic generated towards these downtown entertainment districts is 3 times that of traffic to the airport at minimum and to the more popular Loop and River North districts, it is roughly 4-5 times as much.\n",
    "\n",
    "The outer limits of the city and the museum districts are less popular with the dePaul University area rounding off the top 10.\n",
    "What drives all the traffic to the entertainment district? Where does it originate mostly? Is it from within Chicago or is the footfall mainly from travelers who descend on O'Hare airport? This would be worth investigating."
   ]
  },
  {
   "cell_type": "code",
   "execution_count": 7,
   "metadata": {},
   "outputs": [
    {
     "data": {
      "text/html": [
       "<div>\n",
       "<style scoped>\n",
       "    .dataframe tbody tr th:only-of-type {\n",
       "        vertical-align: middle;\n",
       "    }\n",
       "\n",
       "    .dataframe tbody tr th {\n",
       "        vertical-align: top;\n",
       "    }\n",
       "\n",
       "    .dataframe thead th {\n",
       "        text-align: right;\n",
       "    }\n",
       "</style>\n",
       "<table border=\"1\" class=\"dataframe\">\n",
       "  <thead>\n",
       "    <tr style=\"text-align: right;\">\n",
       "      <th></th>\n",
       "      <th>company_name</th>\n",
       "      <th>trips_amount</th>\n",
       "    </tr>\n",
       "  </thead>\n",
       "  <tbody>\n",
       "    <tr>\n",
       "      <th>0</th>\n",
       "      <td>Flash Cab</td>\n",
       "      <td>19558</td>\n",
       "    </tr>\n",
       "    <tr>\n",
       "      <th>1</th>\n",
       "      <td>Taxi Affiliation Services</td>\n",
       "      <td>11422</td>\n",
       "    </tr>\n",
       "    <tr>\n",
       "      <th>2</th>\n",
       "      <td>Medallion Leasing</td>\n",
       "      <td>10367</td>\n",
       "    </tr>\n",
       "    <tr>\n",
       "      <th>3</th>\n",
       "      <td>Yellow Cab</td>\n",
       "      <td>9888</td>\n",
       "    </tr>\n",
       "    <tr>\n",
       "      <th>4</th>\n",
       "      <td>Taxi Affiliation Service Yellow</td>\n",
       "      <td>9299</td>\n",
       "    </tr>\n",
       "    <tr>\n",
       "      <th>5</th>\n",
       "      <td>Chicago Carriage Cab Corp</td>\n",
       "      <td>9181</td>\n",
       "    </tr>\n",
       "    <tr>\n",
       "      <th>6</th>\n",
       "      <td>City Service</td>\n",
       "      <td>8448</td>\n",
       "    </tr>\n",
       "    <tr>\n",
       "      <th>7</th>\n",
       "      <td>Sun Taxi</td>\n",
       "      <td>7701</td>\n",
       "    </tr>\n",
       "    <tr>\n",
       "      <th>8</th>\n",
       "      <td>Star North Management LLC</td>\n",
       "      <td>7455</td>\n",
       "    </tr>\n",
       "    <tr>\n",
       "      <th>9</th>\n",
       "      <td>Blue Ribbon Taxi Association Inc.</td>\n",
       "      <td>5953</td>\n",
       "    </tr>\n",
       "  </tbody>\n",
       "</table>\n",
       "</div>"
      ],
      "text/plain": [
       "                        company_name  trips_amount\n",
       "0                          Flash Cab         19558\n",
       "1          Taxi Affiliation Services         11422\n",
       "2                  Medallion Leasing         10367\n",
       "3                         Yellow Cab          9888\n",
       "4    Taxi Affiliation Service Yellow          9299\n",
       "5          Chicago Carriage Cab Corp          9181\n",
       "6                       City Service          8448\n",
       "7                           Sun Taxi          7701\n",
       "8          Star North Management LLC          7455\n",
       "9  Blue Ribbon Taxi Association Inc.          5953"
      ]
     },
     "metadata": {},
     "output_type": "display_data"
    },
    {
     "data": {
      "image/png": "[encoded data removed]",
      "text/plain": [
       "<Figure size 640x480 with 1 Axes>"
      ]
     },
     "metadata": {},
     "output_type": "display_data"
    }
   ],
   "source": [
    "#sort taxi companies by number of trips for the given time period\n",
    "top_companies = company_trips_1516.sort_values('trips_amount', ascending=False).head(10)\n",
    "#display top ten locations by drop-off\n",
    "display(top_companies)\n",
    "#plot with location name on x-axis and trip average on y-axis\n",
    "top_companies.plot(x='company_name',\n",
    "                y='trips_amount',\n",
    "                kind='bar',\n",
    "                title='Top 10 taxi cab companies for the period November 15-16, 2017, by number of trips',\n",
    "                xlabel='Company name',\n",
    "                ylabel='Number of trips',\n",
    "                color='green',\n",
    "                rot=80)\n",
    "#remove legend\n",
    "plt.legend('', frameon=False)\n",
    "#show plot\n",
    "plt.show()"
   ]
  },
  {
   "cell_type": "markdown",
   "metadata": {},
   "source": [
    "The most popular taxi cab company and head and shoulders above the rest, is Flash Cab. Flash cab logged nearly double the number of trips of it's nearest competitor, Taxi Affiliation Services. Very little differentiates Taxi affiliation services from the 8 companies ranking below it. It has 10% more rides than Medallion leasing which is an edge that can be easily overcome.\n",
    "It would be worthwhile to understand what Flash Cab is doing differently to maintain such an undisputed preference among Chicago taxi users."
   ]
  },
  {
   "cell_type": "markdown",
   "metadata": {},
   "source": [
    "## Hypothesis Testing"
   ]
  },
  {
   "cell_type": "markdown",
   "metadata": {},
   "source": [
    "**Hypothesis:**\n",
    "\n",
    "\"The average duration of rides from the Loop to O'Hare International Airport changes on rainy Saturdays.\"\n",
    "\n",
    "In this case, H0 The null hypothesis is that there is no difference in the average duration of rides from the Loop to O'Hare on rainy Saturdays.\n",
    "\n",
    "H1 The alternative hypothesis is that there is a difference in the average duration of rides from the Loop to O'Hare on rainy Saturdays.\n",
    "\n",
    "If we are able to reject the null hypothesis, the alternative must be true and there is a difference in the average duration of rides from the Loop to O'Hare on rainy Saturdays.\n",
    "\n",
    "We set an alpha of 0.05 to test this.\n",
    "\n",
    "We set an alpha of 0.05 to test this. This value is appropriate since it reduces the type 1 errors, or a true null hypothesis is rejected once in every 20 trials with this threshold. If we use a smaller alpha we could reduce this even further but this can increase the likelihood of type two errors, where you accept the null hypotheis when you should not. Since this is a two tailed test a more stringent cut off is not called for. 0.05 strikes a good balance."
   ]
  },
  {
   "cell_type": "code",
   "execution_count": 8,
   "metadata": {},
   "outputs": [
    {
     "name": "stdout",
     "output_type": "stream",
     "text": [
      "<class 'pandas.core.frame.DataFrame'>\n",
      "Int64Index: 148 entries, 6 to 1067\n",
      "Data columns (total 3 columns):\n",
      " #   Column              Non-Null Count  Dtype         \n",
      "---  ------              --------------  -----         \n",
      " 0   start_ts            148 non-null    datetime64[ns]\n",
      " 1   weather_conditions  148 non-null    object        \n",
      " 2   duration_seconds    148 non-null    float64       \n",
      "dtypes: datetime64[ns](1), float64(1), object(1)\n",
      "memory usage: 4.6+ KB\n",
      "<class 'pandas.core.frame.DataFrame'>\n",
      "Int64Index: 723 entries, 0 to 1064\n",
      "Data columns (total 3 columns):\n",
      " #   Column              Non-Null Count  Dtype         \n",
      "---  ------              --------------  -----         \n",
      " 0   start_ts            723 non-null    datetime64[ns]\n",
      " 1   weather_conditions  723 non-null    object        \n",
      " 2   duration_seconds    723 non-null    float64       \n",
      "dtypes: datetime64[ns](1), float64(1), object(1)\n",
      "memory usage: 22.6+ KB\n",
      "For rainy days the variation in trip duration is 561003.10 while for pleasant days the variation in trip duration is 597389.54\n"
     ]
    },
    {
     "data": {
      "image/png": "[encoded data removed]",
      "text/plain": [
       "<Figure size 800x700 with 1 Axes>"
      ]
     },
     "metadata": {},
     "output_type": "display_data"
    }
   ],
   "source": [
    "#we filter the o hare loop data set into two different sets based on weather being Good or bad, the latter being synonymouse with rainy and stormy.\n",
    "lh_weather_rainy = lh_weather[lh_weather['weather_conditions'] == 'Bad']\n",
    "lh_weather_good = lh_weather[lh_weather['weather_conditions'] == 'Good']\n",
    "lh_weather_rainy.info()\n",
    "lh_weather_good.info()\n",
    "#we establish the variance of the two distributions, which is needed for later hypothesis testing, to set the equal_var parameter.\n",
    "variance_rainy = np.var(lh_weather_rainy['duration_seconds'])\n",
    "variance_good = np.var(lh_weather_good['duration_seconds'])\n",
    "print(f\"For rainy days the variation in trip duration is {variance_rainy:.2f} while for pleasant days the variation in trip duration is {variance_good:.2f}\")\n",
    "# Plot a boxplot to visualize the distribution of the ride duration grouped by weather conditions\n",
    "lh_weather.boxplot(column = 'duration_seconds', by='weather_conditions', figsize=(8,7))\n",
    "plt.title('Grouped boxplots of ride duration by weather condition')\n",
    "plt.suptitle('')\n",
    "plt.xlabel('Weather condition')\n",
    "plt.ylabel('Duration in seconds')\n",
    "plt.show()"
   ]
  },
  {
   "cell_type": "markdown",
   "metadata": {},
   "source": [
    "We see that the variances of the two populations are different and there are a few outliers in both sets of distributions. There are more outliers in the Good weather distribution that skew towards the higher values than in the bad weather distribution where we see only one. This makes sense since the good weather distribution has nearly six times as many rows as the bad weather distribution and we can expect proportionally more outliers. \n",
    "\n",
    "I would perform the hypothesis testing twice, once with outliers removed and once without."
   ]
  },
  {
   "cell_type": "code",
   "execution_count": 9,
   "metadata": {},
   "outputs": [
    {
     "name": "stdout",
     "output_type": "stream",
     "text": [
      "p-value: 9.126383933880083e-08\n",
      "We reject the null hypothesis\n"
     ]
    }
   ],
   "source": [
    "# Test the hypotheses\n",
    "#set a critical statistical significance level\n",
    "alpha = 0.05\n",
    "# test the hypothesis that the means of the two independent populations are equal\n",
    "#We have previously established that the variance for the two ditributions is not equal, so we set the equal_var parameter to false\n",
    "results = st.ttest_ind(lh_weather_rainy['duration_seconds'], lh_weather_good['duration_seconds'], equal_var = False)\n",
    "# print the p-value you get\n",
    "print('p-value:', results.pvalue)\n",
    "\n",
    "# compare the p-value you get with the significance level)\n",
    "if results.pvalue < alpha:\n",
    "    print(\"We reject the null hypothesis\")\n",
    "else:\n",
    "    print(\"We can't reject the null hypothesis\")"
   ]
  },
  {
   "cell_type": "markdown",
   "metadata": {},
   "source": [
    "The null hypothesis has been rejected, which means the alternative is true. There is a difference in the average duration of rides from the Loop to O'Hare on rainy Saturdays."
   ]
  },
  {
   "cell_type": "code",
   "execution_count": 10,
   "metadata": {},
   "outputs": [
    {
     "name": "stdout",
     "output_type": "stream",
     "text": [
      "Excluding outliers, for rainy days the variation in trip duration is 561003.10 while for pleasant days the variation in trip duration is 597389.54\n"
     ]
    }
   ],
   "source": [
    "# Test the hypotheses ignoring outliers setting a threshold duration of 4000s\n",
    "lh_weather_rainy_ox = lh_weather_rainy[lh_weather_rainy['duration_seconds'] > 4000]\n",
    "lh_weather_good_ox = lh_weather_good[lh_weather_good['duration_seconds'] > 4000]\n",
    "#we establish the variance of the two distributions, which is needed for later hypothesis testing, to set the equal_var parameter.\n",
    "variance_rainy_ox = np.var(lh_weather_rainy_ox['duration_seconds'])\n",
    "variance_good_ox = np.var(lh_weather_good_ox['duration_seconds'])\n",
    "print(f\"Excluding outliers, for rainy days the variation in trip duration is {variance_rainy:.2f} while for pleasant days the variation in trip duration is {variance_good:.2f}\")"
   ]
  },
  {
   "cell_type": "code",
   "execution_count": 11,
   "metadata": {},
   "outputs": [
    {
     "name": "stdout",
     "output_type": "stream",
     "text": [
      "p-value: 0.2971783365993605\n",
      "We can't reject the null hypothesis\n"
     ]
    }
   ],
   "source": [
    "#set a critical statistical significance level\n",
    "alpha = 0.05\n",
    "# test the hypothesis that the means of the two independent populations are equal\n",
    "#We have established that the variance for the two ditributions is not equal, so we set the equal_var parameter to false\n",
    "results = st.ttest_ind(lh_weather_rainy_ox['duration_seconds'], lh_weather_good_ox['duration_seconds'], equal_var = False)\n",
    "# print the p-value you get\n",
    "print('p-value:', results.pvalue)\n",
    "\n",
    "# compare the p-value you get with the significance level)\n",
    "if results.pvalue < alpha:\n",
    "    print(\"We reject the null hypothesis\")\n",
    "else:\n",
    "    print(\"We can't reject the null hypothesis\")"
   ]
  },
  {
   "cell_type": "markdown",
   "metadata": {},
   "source": [
    "The null hypothesis cannot be rejected. There is no difference in the average duration of rides from the Loop to O'Hare on rainy Saturdays."
   ]
  },
  {
   "cell_type": "markdown",
   "metadata": {},
   "source": [
    "Even though I tested the hypothesis both including and excluding the outliers to understand if they made a difference to the result, it is safe to say that excluding the outliers is the correct decision. The are less than 1% of the data set in each case but have an outsize effect on the distribution average and they should eb excluded before emans testing.\n",
    "There is no appreciable difference in the length of the ride from the loop to O'Hare on rainy Saturdays."
   ]
  },
  {
   "cell_type": "markdown",
   "metadata": {},
   "source": [
    "## Conclusion\n",
    "\n",
    "In this project, we have studied the Chicago taxi market both in terms of the volume of traffic in various neighborhoods as well as the shares of the various existing players.\n",
    "\n",
    "Based on what we have learned, we have understood that peak traffic is directed towards the loop and Riverwalk centered entertainment districts. The traffic to these districts dwarves the traffic to the O'Hare airport, being twice to 4 times as much depending on the locality.\n",
    "\n",
    "It would be interesting for Zuber to determine where most of this traffic originates. Are these mostly domestic or international tourists or is this traffic driven mainly by suburbanites in search of a break downtown from their weekly routine? If the latter, is the main traffic surge on the weekends? Which suburban neighborhoods drive most of the traffic? A third possibility would be employees and clients of bussinesses downtown conducting bussiness dinners or happy hours. In this case, the strategy for Zuber would need to be different.\n",
    "\n",
    "If the source of the bulk traffic can be discerned targeted marketing and membership plans could be rolled out. It is possible that traffic is driven by a combination of the above consumer groups. In that case, it may be useful to roll out a differentiated plan based on the different groups needs.\n",
    "The direction of the traffic would also determine how the cabs are distributed. It may be useful to have more cabs stationed in the vicinity of certain suburban neighborhoods since we know that is where a lot of the rides originate.\n",
    "\n",
    "Having an association with popular local bussinesses might also be a viable strategy when the app is launched. If it is possible to tie up with Riverwalk restaurants and clubs at the launch, it could increase local visibility. However, if the traffic is driven by tourists, it would help to have more advertising in and around O'Hare.\n",
    "\n",
    "In terms of competition, it is useful to understand why Flash cabs has such a lead over its nearest competitior. What is Flash cabs doing differently in terms of service, dispatch, advertising? Understanding their lead could be the key to the Chicago market. However, if Zuber does exactly the same thing, consumers will likely go with the older more established player that has already established trust. It would be useful to study their model, identify gaps that still exist and target our strategy towards this."
   ]
  }
 ],
 "metadata": {
  "ExecuteTimeLog": [
   {
    "duration": 167,
    "start_time": "2025-04-03T15:20:14.194Z"
   },
   {
    "duration": 2643,
    "start_time": "2025-04-03T15:20:23.089Z"
   },
   {
    "duration": 18,
    "start_time": "2025-04-03T15:20:26.661Z"
   },
   {
    "duration": 20,
    "start_time": "2025-04-03T15:21:41.154Z"
   },
   {
    "duration": 6,
    "start_time": "2025-04-03T15:24:47.400Z"
   },
   {
    "duration": 8,
    "start_time": "2025-04-03T15:26:32.974Z"
   },
   {
    "duration": 6,
    "start_time": "2025-04-03T15:28:39.574Z"
   },
   {
    "duration": 6,
    "start_time": "2025-04-03T15:28:44.329Z"
   },
   {
    "duration": 15,
    "start_time": "2025-04-03T15:29:11.568Z"
   },
   {
    "duration": 11,
    "start_time": "2025-04-03T15:29:35.619Z"
   },
   {
    "duration": 11,
    "start_time": "2025-04-03T15:30:40.349Z"
   },
   {
    "duration": 12,
    "start_time": "2025-04-03T15:34:16.768Z"
   },
   {
    "duration": 14,
    "start_time": "2025-04-03T15:35:44.752Z"
   },
   {
    "duration": 16,
    "start_time": "2025-04-03T15:37:03.257Z"
   },
   {
    "duration": 14,
    "start_time": "2025-04-03T15:38:48.191Z"
   },
   {
    "duration": 821,
    "start_time": "2025-04-03T15:39:11.244Z"
   },
   {
    "duration": 18,
    "start_time": "2025-04-03T15:39:12.069Z"
   },
   {
    "duration": 24,
    "start_time": "2025-04-03T15:39:12.089Z"
   },
   {
    "duration": 17,
    "start_time": "2025-04-03T15:39:12.116Z"
   },
   {
    "duration": 6,
    "start_time": "2025-04-03T16:16:44.358Z"
   },
   {
    "duration": 5,
    "start_time": "2025-04-03T16:16:57.751Z"
   },
   {
    "duration": 6,
    "start_time": "2025-04-03T16:17:24.457Z"
   },
   {
    "duration": 5,
    "start_time": "2025-04-03T16:17:42.203Z"
   },
   {
    "duration": 827,
    "start_time": "2025-04-03T16:18:20.359Z"
   },
   {
    "duration": 13,
    "start_time": "2025-04-03T16:18:21.189Z"
   },
   {
    "duration": 20,
    "start_time": "2025-04-03T16:18:21.203Z"
   },
   {
    "duration": 23,
    "start_time": "2025-04-03T16:18:21.226Z"
   },
   {
    "duration": 5,
    "start_time": "2025-04-03T16:18:21.250Z"
   },
   {
    "duration": 129,
    "start_time": "2025-04-03T16:19:32.188Z"
   },
   {
    "duration": 15,
    "start_time": "2025-04-03T16:19:49.114Z"
   },
   {
    "duration": 5,
    "start_time": "2025-04-03T16:20:37.454Z"
   },
   {
    "duration": 6,
    "start_time": "2025-04-03T16:20:49.659Z"
   },
   {
    "duration": 244,
    "start_time": "2025-04-03T16:21:04.407Z"
   },
   {
    "duration": 11,
    "start_time": "2025-04-03T16:25:28.409Z"
   },
   {
    "duration": 9,
    "start_time": "2025-04-03T16:28:24.357Z"
   },
   {
    "duration": 9,
    "start_time": "2025-04-03T16:33:11.990Z"
   },
   {
    "duration": 138,
    "start_time": "2025-04-03T16:39:50.504Z"
   },
   {
    "duration": 26,
    "start_time": "2025-04-03T16:41:58.429Z"
   },
   {
    "duration": 7,
    "start_time": "2025-04-03T16:47:36.486Z"
   },
   {
    "duration": 7,
    "start_time": "2025-04-03T16:48:00.209Z"
   },
   {
    "duration": 7,
    "start_time": "2025-04-03T16:48:10.843Z"
   },
   {
    "duration": 1226,
    "start_time": "2025-04-03T16:51:28.229Z"
   },
   {
    "duration": 148,
    "start_time": "2025-04-03T16:52:02.825Z"
   },
   {
    "duration": 154,
    "start_time": "2025-04-03T16:52:41.339Z"
   },
   {
    "duration": 150,
    "start_time": "2025-04-03T17:16:52.179Z"
   },
   {
    "duration": 268,
    "start_time": "2025-04-03T17:18:16.234Z"
   },
   {
    "duration": 182,
    "start_time": "2025-04-03T17:18:40.363Z"
   },
   {
    "duration": 176,
    "start_time": "2025-04-03T17:20:54.101Z"
   },
   {
    "duration": 174,
    "start_time": "2025-04-03T17:21:17.229Z"
   },
   {
    "duration": 175,
    "start_time": "2025-04-03T17:21:31.087Z"
   },
   {
    "duration": 184,
    "start_time": "2025-04-03T17:21:43.250Z"
   },
   {
    "duration": 180,
    "start_time": "2025-04-03T17:21:59.731Z"
   },
   {
    "duration": 180,
    "start_time": "2025-04-03T17:22:26.210Z"
   },
   {
    "duration": 3,
    "start_time": "2025-04-03T17:32:02.953Z"
   },
   {
    "duration": 22,
    "start_time": "2025-04-03T17:39:29.026Z"
   },
   {
    "duration": 7,
    "start_time": "2025-04-03T17:41:14.147Z"
   },
   {
    "duration": 6,
    "start_time": "2025-04-03T17:47:06.537Z"
   },
   {
    "duration": 5,
    "start_time": "2025-04-03T17:47:47.622Z"
   },
   {
    "duration": 7,
    "start_time": "2025-04-03T17:55:25.080Z"
   },
   {
    "duration": 4,
    "start_time": "2025-04-03T17:56:35.617Z"
   },
   {
    "duration": 2592,
    "start_time": "2025-04-03T18:56:44.108Z"
   },
   {
    "duration": 22,
    "start_time": "2025-04-03T18:56:46.702Z"
   },
   {
    "duration": 25,
    "start_time": "2025-04-03T18:56:46.726Z"
   },
   {
    "duration": 26,
    "start_time": "2025-04-03T18:56:46.752Z"
   },
   {
    "duration": 26,
    "start_time": "2025-04-03T18:56:46.780Z"
   },
   {
    "duration": 160,
    "start_time": "2025-04-03T18:56:46.808Z"
   },
   {
    "duration": 192,
    "start_time": "2025-04-03T18:56:46.970Z"
   },
   {
    "duration": 5,
    "start_time": "2025-04-03T18:56:47.164Z"
   },
   {
    "duration": 4,
    "start_time": "2025-04-03T18:56:47.171Z"
   },
   {
    "duration": 5,
    "start_time": "2025-04-03T18:56:47.177Z"
   },
   {
    "duration": 2655,
    "start_time": "2025-04-04T07:16:57.819Z"
   },
   {
    "duration": 21,
    "start_time": "2025-04-04T07:17:00.476Z"
   },
   {
    "duration": 27,
    "start_time": "2025-04-04T07:17:00.498Z"
   },
   {
    "duration": 34,
    "start_time": "2025-04-04T07:17:00.531Z"
   },
   {
    "duration": 8,
    "start_time": "2025-04-04T07:17:00.566Z"
   },
   {
    "duration": 180,
    "start_time": "2025-04-04T07:17:00.576Z"
   },
   {
    "duration": 194,
    "start_time": "2025-04-04T07:17:00.758Z"
   },
   {
    "duration": 6,
    "start_time": "2025-04-04T07:17:00.953Z"
   },
   {
    "duration": 4,
    "start_time": "2025-04-04T07:17:00.962Z"
   },
   {
    "duration": 5,
    "start_time": "2025-04-04T07:17:00.968Z"
   },
   {
    "duration": 396,
    "start_time": "2025-04-04T07:30:03.017Z"
   },
   {
    "duration": 19,
    "start_time": "2025-04-04T07:34:52.886Z"
   },
   {
    "duration": 129,
    "start_time": "2025-04-04T07:35:00.283Z"
   },
   {
    "duration": 137,
    "start_time": "2025-04-04T07:36:28.924Z"
   },
   {
    "duration": 119,
    "start_time": "2025-04-04T07:36:37.583Z"
   },
   {
    "duration": 5,
    "start_time": "2025-04-04T07:37:07.144Z"
   },
   {
    "duration": 145,
    "start_time": "2025-04-04T07:44:56.330Z"
   },
   {
    "duration": 13,
    "start_time": "2025-04-04T07:50:55.962Z"
   },
   {
    "duration": 4,
    "start_time": "2025-04-04T07:51:51.198Z"
   },
   {
    "duration": 6,
    "start_time": "2025-04-04T07:52:00.487Z"
   },
   {
    "duration": 6,
    "start_time": "2025-04-04T07:55:07.754Z"
   },
   {
    "duration": 821,
    "start_time": "2025-04-04T09:31:46.149Z"
   },
   {
    "duration": 11,
    "start_time": "2025-04-04T09:31:46.972Z"
   },
   {
    "duration": 23,
    "start_time": "2025-04-04T09:31:46.985Z"
   },
   {
    "duration": 41,
    "start_time": "2025-04-04T09:31:47.010Z"
   },
   {
    "duration": 8,
    "start_time": "2025-04-04T09:31:47.052Z"
   },
   {
    "duration": 168,
    "start_time": "2025-04-04T09:31:47.062Z"
   },
   {
    "duration": 195,
    "start_time": "2025-04-04T09:31:47.232Z"
   },
   {
    "duration": 130,
    "start_time": "2025-04-04T09:31:47.429Z"
   },
   {
    "duration": 3,
    "start_time": "2025-04-04T09:31:47.561Z"
   },
   {
    "duration": 5,
    "start_time": "2025-04-04T09:31:47.568Z"
   },
   {
    "duration": 4,
    "start_time": "2025-04-04T09:31:47.575Z"
   }
  ],
  "kernelspec": {
   "display_name": "My Environment",
   "language": "python",
   "name": "myenv"
  },
  "language_info": {
   "codemirror_mode": {
    "name": "ipython",
    "version": 3
   },
   "file_extension": ".py",
   "mimetype": "text/x-python",
   "name": "python",
   "nbconvert_exporter": "python",
   "pygments_lexer": "ipython3",
   "version": "3.9.19"
  },
  "toc": {
   "base_numbering": 1,
   "nav_menu": {},
   "number_sections": true,
   "sideBar": true,
   "skip_h1_title": true,
   "title_cell": "Table of Contents",
   "title_sidebar": "Contents",
   "toc_cell": false,
   "toc_position": {},
   "toc_section_display": true,
   "toc_window_display": false
  }
 },
 "nbformat": 4,
 "nbformat_minor": 4
}
